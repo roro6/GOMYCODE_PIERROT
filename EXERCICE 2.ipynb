{
 "cells": [
  {
   "cell_type": "markdown",
   "id": "e33cab1d",
   "metadata": {},
   "source": [
    "# EXERCICES PYTHON BASICS\n"
   ]
  },
  {
   "cell_type": "raw",
   "id": "725a0525",
   "metadata": {},
   "source": [
    "Exo 1 : Write a Python program that accepts the user's first and last name, and prints them in reverse order with a space between them.\n",
    "\n"
   ]
  },
  {
   "cell_type": "code",
   "execution_count": 2,
   "id": "b2379752",
   "metadata": {},
   "outputs": [
    {
     "name": "stdout",
     "output_type": "stream",
     "text": [
      "ecrit ton prénom :Pierre\n",
      "ecrit ton nom :Ciss\n",
      "Ciss Pierre\n"
     ]
    }
   ],
   "source": [
    "prénom = input(\"ecrit ton prénom :\" ) \n",
    "nom = input(\"ecrit ton nom :\" )\n",
    "nom_complet = nom + \" \" + prénom\n",
    "print(nom_complet)"
   ]
  },
  {
   "cell_type": "raw",
   "id": "c4a0bbdd",
   "metadata": {},
   "source": [
    "Exo 2 : Write a Python program that accepts an integer (n) and computes the value of n+nn+nnn.\n",
    "\n",
    "The sample value of n is 5.\n",
    "\n",
    "Expected Result: 615 (5+55+555)"
   ]
  },
  {
   "cell_type": "code",
   "execution_count": 3,
   "id": "64ccf869",
   "metadata": {},
   "outputs": [
    {
     "name": "stdout",
     "output_type": "stream",
     "text": [
      "Saisissez un entier :5\n",
      "n est egal à : 5\n",
      "nn est egal à : 55\n",
      "nnn est egal à :  555\n",
      "le résultat de n+nn+nnn est égal à : 615\n"
     ]
    }
   ],
   "source": [
    "n = int(input(\"Enter an integer: \"))\n",
    "print(\"n est egal à :\", n)\n",
    "\n",
    "nn = int(str(n) + str(n))  \n",
    "print(\"nn est egal à :\" , nn)\n",
    "\n",
    "nnn = int(str(n) +str(n) + str(n)) \n",
    "print(\"nnn est egal à : \" , nnn)\n",
    "\n",
    "resultat = n+nn+nnn\n",
    "print(\"le résultat de n+nn+nnn est égal à :\", resultat)"
   ]
  },
  {
   "cell_type": "raw",
   "id": "483dd59b",
   "metadata": {},
   "source": [
    "Exo 3 : Write a Python program to find whether a given number (accept from the user) is even or odd, and print out an appropriate message to the user.\n",
    "\n"
   ]
  },
  {
   "cell_type": "code",
   "execution_count": 4,
   "id": "02fdaf6b",
   "metadata": {},
   "outputs": [
    {
     "name": "stdout",
     "output_type": "stream",
     "text": [
      "entrer le nombre: 2\n",
      "2 est pair\n"
     ]
    }
   ],
   "source": [
    "num = int(input(\"entrer le nombre: \"))\n",
    "\n",
    "if num % 2 == 0:\n",
    "    print(num, \"est pair\")\n",
    "else:\n",
    "    print(num, \"est impair\")"
   ]
  },
  {
   "cell_type": "raw",
   "id": "db82f2ae",
   "metadata": {},
   "source": [
    "Exo 7 : In this challenge, you must discount a price according to its value.\n",
    "\n",
    "- If the price is 500 or above, there will be a 50% discount.\n",
    "\n",
    "- If the price is between 200 and 500 (200 inclusive), there will be a 30% discount.\n",
    "\n",
    "- If the price is less than 200, there will be a 10% discount."
   ]
  },
  {
   "cell_type": "code",
   "execution_count": 5,
   "id": "2caa25d1",
   "metadata": {},
   "outputs": [
    {
     "name": "stdout",
     "output_type": "stream",
     "text": [
      "Entrer un prix : 200\n",
      "solde_prix :  140.0\n"
     ]
    }
   ],
   "source": [
    "prix = float(input(\"Entrer un prix : \"))\n",
    "\n",
    "if prix >= 500:\n",
    "    solde_prix = prix * 0.5\n",
    "elif prix >= 200:\n",
    "    solde_prix = prix * 0.7\n",
    "else:\n",
    "    solde_prix = prix * 0.9\n",
    "\n",
    "print(\"solde_prix : \", solde_prix)"
   ]
  },
  {
   "cell_type": "code",
   "execution_count": null,
   "id": "74fca8e0",
   "metadata": {},
   "outputs": [],
   "source": []
  }
 ],
 "metadata": {
  "kernelspec": {
   "display_name": "Python 3 (ipykernel)",
   "language": "python",
   "name": "python3"
  },
  "language_info": {
   "codemirror_mode": {
    "name": "ipython",
    "version": 3
   },
   "file_extension": ".py",
   "mimetype": "text/x-python",
   "name": "python",
   "nbconvert_exporter": "python",
   "pygments_lexer": "ipython3",
   "version": "3.9.13"
  }
 },
 "nbformat": 4,
 "nbformat_minor": 5
}
